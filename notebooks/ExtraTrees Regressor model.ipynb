{
 "cells": [
  {
   "cell_type": "code",
   "execution_count": 11,
   "metadata": {},
   "outputs": [],
   "source": [
    "import pandas as pd\n",
    "import numpy as np\n",
    "from sklearn.ensemble import ExtraTreesRegressor\n",
    "from sklearn.model_selection import train_test_split, cross_val_score\n",
    "from sklearn.metrics import mean_squared_error\n",
    "from sklearn.model_selection import GridSearchCV"
   ]
  },
  {
   "cell_type": "code",
   "execution_count": 12,
   "metadata": {},
   "outputs": [],
   "source": [
    "train = pd.read_csv(\"output/train_clean2.csv\", index_col=0)\n",
    "predict = pd.read_csv(\"output/predict_clean.csv\", index_col=0)"
   ]
  },
  {
   "cell_type": "code",
   "execution_count": 13,
   "metadata": {},
   "outputs": [
    {
     "name": "stdout",
     "output_type": "stream",
     "text": [
      "(32364, 5)\n",
      "(32364,)\n",
      "(8091, 5)\n",
      "(8091,)\n"
     ]
    }
   ],
   "source": [
    "X = train.drop(columns='price')\n",
    "y = train.price\n",
    "\n",
    "X_train, X_test, y_train, y_test = train_test_split(X, y, test_size=0.2)\n",
    "print(X_train.shape)\n",
    "print(y_train.shape)\n",
    "print(X_test.shape)\n",
    "print(y_test.shape)"
   ]
  },
  {
   "cell_type": "code",
   "execution_count": 14,
   "metadata": {},
   "outputs": [
    {
     "name": "stdout",
     "output_type": "stream",
     "text": [
      "-------ExtraTreesRegressor-------\n",
      "MSE 1.0 2\n",
      "ExtraTrees Accuracy -0.11792282496474549\n"
     ]
    }
   ],
   "source": [
    "print(f\"-------ExtraTreesRegressor-------\")\n",
    "model = ExtraTreesRegressor()\n",
    "model = model.fit(X_train,y_train)\n",
    "y_pred = model.predict(X_test)\n",
    "print(\"MSE\", round(mean_squared_error(y_test,y_pred)),2)\n",
    "scores = cross_val_score(model,X,y, cv=10, n_jobs=-1)\n",
    "print(f\"ExtraTrees Accuracy {np.mean(scores)}\")"
   ]
  },
  {
   "cell_type": "code",
   "execution_count": null,
   "metadata": {},
   "outputs": [
    {
     "name": "stdout",
     "output_type": "stream",
     "text": [
      "Fitting 5 folds for each of 27 candidates, totalling 135 fits\n"
     ]
    },
    {
     "name": "stderr",
     "output_type": "stream",
     "text": [
      "[Parallel(n_jobs=-1)]: Using backend LokyBackend with 8 concurrent workers.\n",
      "[Parallel(n_jobs=-1)]: Done  34 tasks      | elapsed:   16.5s\n"
     ]
    }
   ],
   "source": [
    "params = {\"n_estimators\":[150,250,300],\n",
    "        \"max_depth\":[10,25,50],\n",
    "        \"min_samples_split\":[5,10,20]\n",
    "       }\n",
    "\n",
    "efr = ExtraTreesRegressor()\n",
    "grid = GridSearchCV(efr,scoring=\"neg_root_mean_squared_error\",verbose=1,n_jobs=-1,param_grid=params,cv=5)\n",
    "grid.fit(X_train,y_train)"
   ]
  },
  {
   "cell_type": "code",
   "execution_count": 6,
   "metadata": {},
   "outputs": [
    {
     "data": {
      "text/plain": [
       "{'max_depth': 25, 'min_samples_split': 5, 'n_estimators': 300}"
      ]
     },
     "execution_count": 6,
     "metadata": {},
     "output_type": "execute_result"
    }
   ],
   "source": [
    "grid.best_params_"
   ]
  },
  {
   "cell_type": "code",
   "execution_count": 7,
   "metadata": {},
   "outputs": [
    {
     "name": "stdout",
     "output_type": "stream",
     "text": [
      "-------ExtraTreesRegressor-------\n",
      "MSE 0.0 2\n",
      "ExtraTrees Accuracy 0.9916450351444748\n"
     ]
    }
   ],
   "source": [
    "print(f\"-------ExtraTreesRegressor-------\")\n",
    "model = ExtraTreesRegressor(n_estimators=300, min_samples_split=10, max_depth= 25) \n",
    "model = model.fit(X_train,y_train)\n",
    "y_pred = model.predict(X_test)\n",
    "print(\"MSE\", round(mean_squared_error(y_test,y_pred)),2)\n",
    "scores = cross_val_score(model,X,y, cv=10, n_jobs=-1)\n",
    "print(f\"ExtraTrees Accuracy {np.mean(scores)}\")\n"
   ]
  },
  {
   "cell_type": "code",
   "execution_count": 8,
   "metadata": {},
   "outputs": [
    {
     "name": "stdout",
     "output_type": "stream",
     "text": [
      "-------ExtraTreesRegressor-------\n",
      "MSE 0.0 2\n",
      "ExtraTrees Accuracy 0.9916726980290047\n"
     ]
    }
   ],
   "source": [
    "print(f\"-------ExtraTreesRegressor-------\")\n",
    "model = ExtraTreesRegressor(n_estimators=350, min_samples_split=10, max_depth= 25) \n",
    "model = model.fit(X_train,y_train)\n",
    "y_pred = model.predict(X_test)\n",
    "print(\"MSE\", round(mean_squared_error(y_test,y_pred)),2)\n",
    "scores = cross_val_score(model,X,y, cv=10, n_jobs=-1)\n",
    "print(f\"ExtraTrees Accuracy {np.mean(scores)}\")\n"
   ]
  },
  {
   "cell_type": "code",
   "execution_count": 9,
   "metadata": {},
   "outputs": [
    {
     "name": "stdout",
     "output_type": "stream",
     "text": [
      "-------ExtraTreesRegressor-------\n",
      "MSE 0.0 2\n",
      "ExtraTrees Accuracy 0.991668601797955\n"
     ]
    }
   ],
   "source": [
    "print(f\"-------ExtraTreesRegressor-------\")\n",
    "model = ExtraTreesRegressor(n_estimators=1000, min_samples_split=10, max_depth= 50) \n",
    "model = model.fit(X_train,y_train)\n",
    "y_pred = model.predict(X_test)\n",
    "print(\"MSE\", round(mean_squared_error(y_test,y_pred)),2)\n",
    "scores = cross_val_score(model,X,y, cv=10, n_jobs=-1)\n",
    "print(f\"ExtraTrees Accuracy {np.mean(scores)}\")\n"
   ]
  },
  {
   "cell_type": "code",
   "execution_count": 10,
   "metadata": {},
   "outputs": [
    {
     "name": "stdout",
     "output_type": "stream",
     "text": [
      "-------ExtraTreesRegressor-------\n",
      "MSE 0.0 2\n",
      "ExtraTrees Accuracy 0.9916705674483908\n"
     ]
    }
   ],
   "source": [
    "print(f\"-------ExtraTreesRegressor-------\")\n",
    "model = ExtraTreesRegressor(n_estimators=1800, min_samples_split=10, max_depth= 50) \n",
    "model = model.fit(X_train,y_train)\n",
    "y_pred = model.predict(X_test)\n",
    "print(\"MSE\", round(mean_squared_error(y_test,y_pred)),2)\n",
    "scores = cross_val_score(model,X,y, cv=10, n_jobs=-1)\n",
    "print(f\"ExtraTrees Accuracy {np.mean(scores)}\")\n"
   ]
  }
 ],
 "metadata": {
  "kernelspec": {
   "display_name": "Python 3",
   "language": "python",
   "name": "python3"
  },
  "language_info": {
   "codemirror_mode": {
    "name": "ipython",
    "version": 3
   },
   "file_extension": ".py",
   "mimetype": "text/x-python",
   "name": "python",
   "nbconvert_exporter": "python",
   "pygments_lexer": "ipython3",
   "version": "3.8.5"
  }
 },
 "nbformat": 4,
 "nbformat_minor": 4
}
