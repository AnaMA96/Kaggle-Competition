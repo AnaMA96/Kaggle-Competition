{
 "cells": [
  {
   "cell_type": "code",
   "execution_count": 46,
   "metadata": {},
   "outputs": [],
   "source": [
    "import numpy as np \n",
    "import pandas as pd \n",
    "\n",
    "from sklearn.preprocessing import StandardScaler\n",
    "from sklearn.metrics import mean_squared_log_error,mean_squared_error, r2_score,mean_absolute_error \n",
    "from sklearn.model_selection import GridSearchCV\n",
    "from sklearn.metrics import make_scorer\n",
    "from sklearn.model_selection import ShuffleSplit\n",
    "from sklearn.ensemble import GradientBoostingRegressor\n",
    "from xgboost.sklearn import XGBRegressor\n",
    "from sklearn.model_selection import cross_val_score\n",
    "from sklearn.model_selection import train_test_split  \n",
    "\n",
    "\n",
    "import warnings\n",
    "warnings.filterwarnings('ignore')"
   ]
  },
  {
   "cell_type": "code",
   "execution_count": 18,
   "metadata": {},
   "outputs": [],
   "source": [
    "train = pd.read_csv(\"output/train_clean.csv\")\n",
    "predict = pd.read_csv(\"output/predict_clean.csv\")"
   ]
  },
  {
   "cell_type": "code",
   "execution_count": 19,
   "metadata": {},
   "outputs": [
    {
     "data": {
      "text/html": [
       "<div>\n",
       "<style scoped>\n",
       "    .dataframe tbody tr th:only-of-type {\n",
       "        vertical-align: middle;\n",
       "    }\n",
       "\n",
       "    .dataframe tbody tr th {\n",
       "        vertical-align: top;\n",
       "    }\n",
       "\n",
       "    .dataframe thead th {\n",
       "        text-align: right;\n",
       "    }\n",
       "</style>\n",
       "<table border=\"1\" class=\"dataframe\">\n",
       "  <thead>\n",
       "    <tr style=\"text-align: right;\">\n",
       "      <th></th>\n",
       "      <th>id</th>\n",
       "      <th>carat</th>\n",
       "      <th>cut</th>\n",
       "      <th>color</th>\n",
       "      <th>clarity</th>\n",
       "      <th>depth</th>\n",
       "      <th>table</th>\n",
       "      <th>x</th>\n",
       "      <th>y</th>\n",
       "      <th>z</th>\n",
       "      <th>price</th>\n",
       "    </tr>\n",
       "  </thead>\n",
       "  <tbody>\n",
       "    <tr>\n",
       "      <th>0</th>\n",
       "      <td>0</td>\n",
       "      <td>0.53</td>\n",
       "      <td>3</td>\n",
       "      <td>7</td>\n",
       "      <td>2</td>\n",
       "      <td>63.4</td>\n",
       "      <td>54.0</td>\n",
       "      <td>5.09</td>\n",
       "      <td>5.13</td>\n",
       "      <td>3.24</td>\n",
       "      <td>7.057</td>\n",
       "    </tr>\n",
       "    <tr>\n",
       "      <th>1</th>\n",
       "      <td>1</td>\n",
       "      <td>0.41</td>\n",
       "      <td>4</td>\n",
       "      <td>2</td>\n",
       "      <td>2</td>\n",
       "      <td>63.0</td>\n",
       "      <td>56.0</td>\n",
       "      <td>4.80</td>\n",
       "      <td>4.75</td>\n",
       "      <td>3.01</td>\n",
       "      <td>6.824</td>\n",
       "    </tr>\n",
       "    <tr>\n",
       "      <th>2</th>\n",
       "      <td>2</td>\n",
       "      <td>0.32</td>\n",
       "      <td>4</td>\n",
       "      <td>6</td>\n",
       "      <td>5</td>\n",
       "      <td>61.6</td>\n",
       "      <td>56.0</td>\n",
       "      <td>4.37</td>\n",
       "      <td>4.39</td>\n",
       "      <td>2.70</td>\n",
       "      <td>6.107</td>\n",
       "    </tr>\n",
       "    <tr>\n",
       "      <th>3</th>\n",
       "      <td>3</td>\n",
       "      <td>0.31</td>\n",
       "      <td>4</td>\n",
       "      <td>5</td>\n",
       "      <td>3</td>\n",
       "      <td>61.2</td>\n",
       "      <td>56.0</td>\n",
       "      <td>4.34</td>\n",
       "      <td>4.37</td>\n",
       "      <td>2.66</td>\n",
       "      <td>6.390</td>\n",
       "    </tr>\n",
       "    <tr>\n",
       "      <th>4</th>\n",
       "      <td>4</td>\n",
       "      <td>1.35</td>\n",
       "      <td>5</td>\n",
       "      <td>4</td>\n",
       "      <td>5</td>\n",
       "      <td>60.5</td>\n",
       "      <td>56.0</td>\n",
       "      <td>7.19</td>\n",
       "      <td>7.12</td>\n",
       "      <td>4.33</td>\n",
       "      <td>8.741</td>\n",
       "    </tr>\n",
       "  </tbody>\n",
       "</table>\n",
       "</div>"
      ],
      "text/plain": [
       "   id  carat  cut  color  clarity  depth  table     x     y     z  price\n",
       "0   0   0.53    3      7        2   63.4   54.0  5.09  5.13  3.24  7.057\n",
       "1   1   0.41    4      2        2   63.0   56.0  4.80  4.75  3.01  6.824\n",
       "2   2   0.32    4      6        5   61.6   56.0  4.37  4.39  2.70  6.107\n",
       "3   3   0.31    4      5        3   61.2   56.0  4.34  4.37  2.66  6.390\n",
       "4   4   1.35    5      4        5   60.5   56.0  7.19  7.12  4.33  8.741"
      ]
     },
     "execution_count": 19,
     "metadata": {},
     "output_type": "execute_result"
    }
   ],
   "source": [
    "train.head()"
   ]
  },
  {
   "cell_type": "code",
   "execution_count": 20,
   "metadata": {},
   "outputs": [
    {
     "name": "stdout",
     "output_type": "stream",
     "text": [
      "(32364, 10)\n",
      "(32364,)\n",
      "(8091, 10)\n",
      "(8091,)\n"
     ]
    }
   ],
   "source": [
    "X = train.drop(columns='price')\n",
    "y = train.price\n",
    "\n",
    "X_train, X_test, y_train, y_test = train_test_split(X, y, test_size=0.2)\n",
    "print(X_train.shape)\n",
    "print(y_train.shape)\n",
    "print(X_test.shape)\n",
    "print(y_test.shape)"
   ]
  },
  {
   "cell_type": "code",
   "execution_count": 21,
   "metadata": {},
   "outputs": [
    {
     "name": "stdout",
     "output_type": "stream",
     "text": [
      "-------HistGradientBoostingRegressor-------\n",
      "MSE 0.0 2\n",
      "HistGradientBoosting Accuracy 0.9911075486832267\n"
     ]
    }
   ],
   "source": [
    "print(f\"-------HistGradientBoostingRegressor-------\")\n",
    "model = HistGradientBoostingRegressor()\n",
    "model = model.fit(X_train,y_train)\n",
    "y_pred = model.predict(X_test)\n",
    "print(\"MSE\", round(mean_squared_error(y_test,y_pred)),2)\n",
    "scores = cross_val_score(model,X,y, cv=10, n_jobs=-1)\n",
    "print(f\"HistGradientBoosting Accuracy {np.mean(scores)}\")"
   ]
  },
  {
   "cell_type": "code",
   "execution_count": 22,
   "metadata": {},
   "outputs": [],
   "source": [
    "params={\"loss\": ['least_squares', 'least_absolute_deviation', 'poisson'],\n",
    "        \"max_depth\":[10, 25, 50, 75, 100],\n",
    "        \"min_samples_leaf\": [10, 20, 25, 30, 35, 40, 45, 50]}\n",
    "hgbr = HistGradientBoostingRegressor()\n",
    "grid = GridSearchCV(hgbr,verbose=1,n_jobs=-1,param_grid=params,cv=5)"
   ]
  },
  {
   "cell_type": "code",
   "execution_count": 23,
   "metadata": {},
   "outputs": [
    {
     "name": "stdout",
     "output_type": "stream",
     "text": [
      "Fitting 5 folds for each of 120 candidates, totalling 600 fits\n"
     ]
    },
    {
     "name": "stderr",
     "output_type": "stream",
     "text": [
      "[Parallel(n_jobs=-1)]: Using backend LokyBackend with 8 concurrent workers.\n",
      "[Parallel(n_jobs=-1)]: Done  34 tasks      | elapsed:    6.7s\n",
      "[Parallel(n_jobs=-1)]: Done 184 tasks      | elapsed:   31.1s\n",
      "[Parallel(n_jobs=-1)]: Done 434 tasks      | elapsed:  1.4min\n",
      "[Parallel(n_jobs=-1)]: Done 600 out of 600 | elapsed:  1.9min finished\n"
     ]
    },
    {
     "data": {
      "text/plain": [
       "GridSearchCV(cv=5, estimator=HistGradientBoostingRegressor(), n_jobs=-1,\n",
       "             param_grid={'loss': ['least_squares', 'least_absolute_deviation',\n",
       "                                  'poisson'],\n",
       "                         'max_depth': [10, 25, 50, 75, 100],\n",
       "                         'min_samples_leaf': [10, 20, 25, 30, 35, 40, 45, 50]},\n",
       "             verbose=1)"
      ]
     },
     "execution_count": 23,
     "metadata": {},
     "output_type": "execute_result"
    }
   ],
   "source": [
    "grid.fit(X_train,y_train)"
   ]
  },
  {
   "cell_type": "code",
   "execution_count": 24,
   "metadata": {},
   "outputs": [
    {
     "data": {
      "text/plain": [
       "{'loss': 'poisson', 'max_depth': 50, 'min_samples_leaf': 10}"
      ]
     },
     "execution_count": 24,
     "metadata": {},
     "output_type": "execute_result"
    }
   ],
   "source": [
    "grid.best_params_"
   ]
  },
  {
   "cell_type": "code",
   "execution_count": 25,
   "metadata": {},
   "outputs": [
    {
     "name": "stdout",
     "output_type": "stream",
     "text": [
      "-------HistGradientBoostingRegressor-------\n",
      "MSE 0.0 2\n",
      "HistGradientBoosting Accuracy 0.9910420227428751\n"
     ]
    }
   ],
   "source": [
    "print(f\"-------HistGradientBoostingRegressor-------\")\n",
    "model_grid = HistGradientBoostingRegressor(loss='poisson', max_depth=25, min_samples_leaf=25) \n",
    "model_grid = model.fit(X_train,y_train)\n",
    "y_pred = model_grid.predict(X_test)\n",
    "print(\"MSE\", round(mean_squared_error(y_test,y_pred)),2)\n",
    "scores = cross_val_score(model_grid,X,y, cv=10, n_jobs=-1)\n",
    "print(f\"HistGradientBoosting Accuracy {np.mean(scores)}\")\n",
    "\n",
    "#subm_2.csv"
   ]
  },
  {
   "cell_type": "code",
   "execution_count": 26,
   "metadata": {},
   "outputs": [
    {
     "name": "stdout",
     "output_type": "stream",
     "text": [
      "-------HistGradientBoostingRegressor-------\n",
      "MSE 0.0 2\n",
      "HistGradientBoosting Accuracy 0.9909820209579181\n"
     ]
    }
   ],
   "source": [
    "print(f\"-------HistGradientBoostingRegressor-------\")\n",
    "model_grid = HistGradientBoostingRegressor(loss='poisson', max_depth=100, min_samples_leaf=10) \n",
    "model_grid = model.fit(X_train,y_train)\n",
    "y_pred = model_grid.predict(X_test)\n",
    "print(\"MSE\", round(mean_squared_error(y_test,y_pred)),2)\n",
    "scores = cross_val_score(model_grid,X,y, cv=10, n_jobs=-1)\n",
    "print(f\"HistGradientBoosting Accuracy {np.mean(scores)}\")"
   ]
  },
  {
   "cell_type": "code",
   "execution_count": 27,
   "metadata": {},
   "outputs": [],
   "source": [
    "y_train_t = train.price\n",
    "X_train_t = train.drop(columns='price')\n",
    "X_test_t = predict\n",
    "\n",
    "model3 = HistGradientBoostingRegressor(loss='poisson', max_depth=25, min_samples_leaf=25) \n",
    "model3 = model3.fit(X_train_t, y_train_t)\n",
    "y_pred = model3.predict(X_test_t)\n",
    "\n",
    "predict['price'] = y_pred\n",
    "sub = predict[['id','price']]\n",
    "sub.to_csv('subm_.csv', index=False, header=True)"
   ]
  },
  {
   "cell_type": "code",
   "execution_count": 28,
   "metadata": {},
   "outputs": [],
   "source": [
    "params={\"loss\": ['least_squares', 'least_absolute_deviation', 'poisson'],\n",
    "        \"max_depth\":[50, 75, 100, 125, 150, 200],\n",
    "        \"min_samples_leaf\": [2, 5, 10, 20, 25, 30]}\n",
    "hgbr = HistGradientBoostingRegressor()\n",
    "grid = GridSearchCV(hgbr,verbose=1,n_jobs=-1,param_grid=params,cv=5)"
   ]
  },
  {
   "cell_type": "code",
   "execution_count": 29,
   "metadata": {},
   "outputs": [
    {
     "name": "stdout",
     "output_type": "stream",
     "text": [
      "Fitting 5 folds for each of 108 candidates, totalling 540 fits\n"
     ]
    },
    {
     "name": "stderr",
     "output_type": "stream",
     "text": [
      "[Parallel(n_jobs=-1)]: Using backend LokyBackend with 8 concurrent workers.\n",
      "[Parallel(n_jobs=-1)]: Done  34 tasks      | elapsed:    6.9s\n",
      "[Parallel(n_jobs=-1)]: Done 184 tasks      | elapsed:   34.0s\n",
      "[Parallel(n_jobs=-1)]: Done 434 tasks      | elapsed:  1.6min\n",
      "[Parallel(n_jobs=-1)]: Done 540 out of 540 | elapsed:  1.9min finished\n"
     ]
    },
    {
     "data": {
      "text/plain": [
       "GridSearchCV(cv=5, estimator=HistGradientBoostingRegressor(), n_jobs=-1,\n",
       "             param_grid={'loss': ['least_squares', 'least_absolute_deviation',\n",
       "                                  'poisson'],\n",
       "                         'max_depth': [50, 75, 100, 125, 150, 200],\n",
       "                         'min_samples_leaf': [2, 5, 10, 20, 25, 30]},\n",
       "             verbose=1)"
      ]
     },
     "execution_count": 29,
     "metadata": {},
     "output_type": "execute_result"
    }
   ],
   "source": [
    "grid.fit(X_train,y_train)"
   ]
  },
  {
   "cell_type": "code",
   "execution_count": 30,
   "metadata": {},
   "outputs": [
    {
     "data": {
      "text/plain": [
       "{'loss': 'poisson', 'max_depth': 125, 'min_samples_leaf': 5}"
      ]
     },
     "execution_count": 30,
     "metadata": {},
     "output_type": "execute_result"
    }
   ],
   "source": [
    "grid.best_params_"
   ]
  },
  {
   "cell_type": "code",
   "execution_count": 31,
   "metadata": {},
   "outputs": [
    {
     "name": "stdout",
     "output_type": "stream",
     "text": [
      "-------HistGradientBoostingRegressor-------\n",
      "MSE 0.0 2\n",
      "HistGradientBoosting Accuracy 0.9911072662156686\n"
     ]
    }
   ],
   "source": [
    "print(f\"-------HistGradientBoostingRegressor-------\")\n",
    "model_grid = HistGradientBoostingRegressor(loss='least_squares', max_depth=150, min_samples_leaf=2) \n",
    "model_grid = model.fit(X_train,y_train)\n",
    "y_pred = model_grid.predict(X_test)\n",
    "print(\"MSE\", round(mean_squared_error(y_test,y_pred)),2)\n",
    "scores = cross_val_score(model_grid,X,y, cv=10, n_jobs=-1)\n",
    "print(f\"HistGradientBoosting Accuracy {np.mean(scores)}\")"
   ]
  },
  {
   "cell_type": "code",
   "execution_count": null,
   "metadata": {},
   "outputs": [],
   "source": [
    "y_train_t = train.price\n",
    "X_train_t = train.drop(columns='price')\n",
    "X_test_t = predict\n",
    "\n",
    "model4 = HistGradientBoostingRegressor(loss='poisson', max_depth=125, min_samples_leaf=5) \n",
    "model4 = model4.fit(X_train_t, y_train_t)\n",
    "y_pred = model4.predict(X_test_t)\n",
    "\n",
    "predict['price'] = y_pred\n",
    "sub = predict[['id','price']]\n",
    "sub.to_csv('subm_p.csv', index=False, header=True)"
   ]
  }
 ],
 "metadata": {
  "kernelspec": {
   "display_name": "Python 3",
   "language": "python",
   "name": "python3"
  },
  "language_info": {
   "codemirror_mode": {
    "name": "ipython",
    "version": 3
   },
   "file_extension": ".py",
   "mimetype": "text/x-python",
   "name": "python",
   "nbconvert_exporter": "python",
   "pygments_lexer": "ipython3",
   "version": "3.8.5"
  }
 },
 "nbformat": 4,
 "nbformat_minor": 4
}
