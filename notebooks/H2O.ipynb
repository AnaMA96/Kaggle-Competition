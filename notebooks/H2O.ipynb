{
 "cells": [
  {
   "cell_type": "code",
   "execution_count": 1,
   "metadata": {},
   "outputs": [],
   "source": [
    "import pandas as pd\n",
    "import h2o\n",
    "from h2o.automl import H2OAutoML"
   ]
  },
  {
   "cell_type": "code",
   "execution_count": 11,
   "metadata": {},
   "outputs": [],
   "source": [
    "train = pd.read_csv(\"input/train.csv\", index_col=0)\n",
    "pred = pd.read_csv(\"input/test.csv\", index_col=0)\n"
   ]
  },
  {
   "cell_type": "code",
   "execution_count": 12,
   "metadata": {},
   "outputs": [
    {
     "name": "stdout",
     "output_type": "stream",
     "text": [
      "Checking whether there is an H2O instance running at http://localhost:54321 . connected.\n"
     ]
    },
    {
     "data": {
      "text/html": [
       "<div style=\"overflow:auto\"><table style=\"width:50%\"><tr><td>H2O_cluster_uptime:</td>\n",
       "<td>1 hour 8 mins</td></tr>\n",
       "<tr><td>H2O_cluster_timezone:</td>\n",
       "<td>Europe/Madrid</td></tr>\n",
       "<tr><td>H2O_data_parsing_timezone:</td>\n",
       "<td>UTC</td></tr>\n",
       "<tr><td>H2O_cluster_version:</td>\n",
       "<td>3.30.1.3</td></tr>\n",
       "<tr><td>H2O_cluster_version_age:</td>\n",
       "<td>2 months and 7 days </td></tr>\n",
       "<tr><td>H2O_cluster_name:</td>\n",
       "<td>H2O_from_python_ana_vyjt2g</td></tr>\n",
       "<tr><td>H2O_cluster_total_nodes:</td>\n",
       "<td>1</td></tr>\n",
       "<tr><td>H2O_cluster_free_memory:</td>\n",
       "<td>2.896 Gb</td></tr>\n",
       "<tr><td>H2O_cluster_total_cores:</td>\n",
       "<td>8</td></tr>\n",
       "<tr><td>H2O_cluster_allowed_cores:</td>\n",
       "<td>8</td></tr>\n",
       "<tr><td>H2O_cluster_status:</td>\n",
       "<td>locked, healthy</td></tr>\n",
       "<tr><td>H2O_connection_url:</td>\n",
       "<td>http://localhost:54321</td></tr>\n",
       "<tr><td>H2O_connection_proxy:</td>\n",
       "<td>{\"http\": null, \"https\": null}</td></tr>\n",
       "<tr><td>H2O_internal_security:</td>\n",
       "<td>False</td></tr>\n",
       "<tr><td>H2O_API_Extensions:</td>\n",
       "<td>Amazon S3, XGBoost, Algos, AutoML, Core V3, TargetEncoder, Core V4</td></tr>\n",
       "<tr><td>Python_version:</td>\n",
       "<td>3.8.5 final</td></tr></table></div>"
      ],
      "text/plain": [
       "--------------------------  ------------------------------------------------------------------\n",
       "H2O_cluster_uptime:         1 hour 8 mins\n",
       "H2O_cluster_timezone:       Europe/Madrid\n",
       "H2O_data_parsing_timezone:  UTC\n",
       "H2O_cluster_version:        3.30.1.3\n",
       "H2O_cluster_version_age:    2 months and 7 days\n",
       "H2O_cluster_name:           H2O_from_python_ana_vyjt2g\n",
       "H2O_cluster_total_nodes:    1\n",
       "H2O_cluster_free_memory:    2.896 Gb\n",
       "H2O_cluster_total_cores:    8\n",
       "H2O_cluster_allowed_cores:  8\n",
       "H2O_cluster_status:         locked, healthy\n",
       "H2O_connection_url:         http://localhost:54321\n",
       "H2O_connection_proxy:       {\"http\": null, \"https\": null}\n",
       "H2O_internal_security:      False\n",
       "H2O_API_Extensions:         Amazon S3, XGBoost, Algos, AutoML, Core V3, TargetEncoder, Core V4\n",
       "Python_version:             3.8.5 final\n",
       "--------------------------  ------------------------------------------------------------------"
      ]
     },
     "metadata": {},
     "output_type": "display_data"
    }
   ],
   "source": [
    "h2o.init()"
   ]
  },
  {
   "cell_type": "code",
   "execution_count": 13,
   "metadata": {},
   "outputs": [
    {
     "name": "stdout",
     "output_type": "stream",
     "text": [
      "Parse progress: |█████████████████████████████████████████████████████████| 100%\n",
      "Parse progress: |█████████████████████████████████████████████████████████| 100%\n"
     ]
    }
   ],
   "source": [
    "h2train = h2o.H2OFrame(train)\n",
    "h2pred = h2o.H2OFrame(pred)"
   ]
  },
  {
   "cell_type": "code",
   "execution_count": 14,
   "metadata": {},
   "outputs": [],
   "source": [
    "x = list(train.drop(columns='price').columns)\n",
    "y = 'price'"
   ]
  },
  {
   "cell_type": "code",
   "execution_count": 15,
   "metadata": {},
   "outputs": [
    {
     "name": "stdout",
     "output_type": "stream",
     "text": [
      "AutoML progress: |████████████████████████████████████████████████████████| 100%\n"
     ]
    }
   ],
   "source": [
    "automl = H2OAutoML(max_models=50, seed=1,max_runtime_secs=1200, sort_metric='MSE')\n",
    "automl.train(x, y, training_frame=h2train)"
   ]
  },
  {
   "cell_type": "code",
   "execution_count": 16,
   "metadata": {},
   "outputs": [
    {
     "data": {
      "text/html": [
       "<table>\n",
       "<thead>\n",
       "<tr><th>model_id                                           </th><th style=\"text-align: right;\">       mse</th><th style=\"text-align: right;\">  mean_residual_deviance</th><th style=\"text-align: right;\">     rmse</th><th style=\"text-align: right;\">      mae</th><th style=\"text-align: right;\">     rmsle</th></tr>\n",
       "</thead>\n",
       "<tbody>\n",
       "<tr><td>StackedEnsemble_BestOfFamily_AutoML_20201206_122428</td><td style=\"text-align: right;\">0.00746929</td><td style=\"text-align: right;\">              0.00746929</td><td style=\"text-align: right;\">0.0864251</td><td style=\"text-align: right;\">0.061898 </td><td style=\"text-align: right;\">0.00982103</td></tr>\n",
       "<tr><td>GBM_4_AutoML_20201206_122428                       </td><td style=\"text-align: right;\">0.0074781 </td><td style=\"text-align: right;\">              0.0074781 </td><td style=\"text-align: right;\">0.086476 </td><td style=\"text-align: right;\">0.0619432</td><td style=\"text-align: right;\">0.00982717</td></tr>\n",
       "<tr><td>StackedEnsemble_AllModels_AutoML_20201206_122428   </td><td style=\"text-align: right;\">0.00760196</td><td style=\"text-align: right;\">              0.00760196</td><td style=\"text-align: right;\">0.0871892</td><td style=\"text-align: right;\">0.0625602</td><td style=\"text-align: right;\">0.00991473</td></tr>\n",
       "<tr><td>GBM_3_AutoML_20201206_122428                       </td><td style=\"text-align: right;\">0.00763094</td><td style=\"text-align: right;\">              0.00763094</td><td style=\"text-align: right;\">0.0873552</td><td style=\"text-align: right;\">0.0626887</td><td style=\"text-align: right;\">0.00994295</td></tr>\n",
       "<tr><td>GBM_grid__1_AutoML_20201206_122428_model_8         </td><td style=\"text-align: right;\">0.0076804 </td><td style=\"text-align: right;\">              0.0076804 </td><td style=\"text-align: right;\">0.0876379</td><td style=\"text-align: right;\">0.0625273</td><td style=\"text-align: right;\">0.0099649 </td></tr>\n",
       "<tr><td>GBM_1_AutoML_20201206_122428                       </td><td style=\"text-align: right;\">0.00771996</td><td style=\"text-align: right;\">              0.00771996</td><td style=\"text-align: right;\">0.0878633</td><td style=\"text-align: right;\">0.0636608</td><td style=\"text-align: right;\">0.00999925</td></tr>\n",
       "<tr><td>GBM_2_AutoML_20201206_122428                       </td><td style=\"text-align: right;\">0.0077695 </td><td style=\"text-align: right;\">              0.0077695 </td><td style=\"text-align: right;\">0.0881448</td><td style=\"text-align: right;\">0.0633643</td><td style=\"text-align: right;\">0.0100339 </td></tr>\n",
       "<tr><td>GBM_5_AutoML_20201206_122428                       </td><td style=\"text-align: right;\">0.0078127 </td><td style=\"text-align: right;\">              0.0078127 </td><td style=\"text-align: right;\">0.0883895</td><td style=\"text-align: right;\">0.062869 </td><td style=\"text-align: right;\">0.0100527 </td></tr>\n",
       "<tr><td>GBM_grid__1_AutoML_20201206_122428_model_9         </td><td style=\"text-align: right;\">0.00787347</td><td style=\"text-align: right;\">              0.00787347</td><td style=\"text-align: right;\">0.0887326</td><td style=\"text-align: right;\">0.0635269</td><td style=\"text-align: right;\">0.0100987 </td></tr>\n",
       "<tr><td>GBM_grid__1_AutoML_20201206_122428_model_6         </td><td style=\"text-align: right;\">0.00797157</td><td style=\"text-align: right;\">              0.00797157</td><td style=\"text-align: right;\">0.0892836</td><td style=\"text-align: right;\">0.0636904</td><td style=\"text-align: right;\">0.010164  </td></tr>\n",
       "</tbody>\n",
       "</table>"
      ]
     },
     "metadata": {},
     "output_type": "display_data"
    },
    {
     "data": {
      "text/plain": []
     },
     "execution_count": 16,
     "metadata": {},
     "output_type": "execute_result"
    }
   ],
   "source": [
    "leader_board = automl.leaderboard\n",
    "leader_board.head()"
   ]
  },
  {
   "cell_type": "code",
   "execution_count": 17,
   "metadata": {},
   "outputs": [
    {
     "name": "stdout",
     "output_type": "stream",
     "text": [
      "AutoML progress: |████████████████████████████████████████████████████████| 100%\n"
     ]
    }
   ],
   "source": [
    "automl = H2OAutoML(max_models=50, seed=1,max_runtime_secs=1800, sort_metric='MSE')\n",
    "automl.train(x, y, training_frame=h2train)"
   ]
  },
  {
   "cell_type": "code",
   "execution_count": 18,
   "metadata": {},
   "outputs": [
    {
     "data": {
      "text/html": [
       "<table>\n",
       "<thead>\n",
       "<tr><th>model_id                                           </th><th style=\"text-align: right;\">       mse</th><th style=\"text-align: right;\">  mean_residual_deviance</th><th style=\"text-align: right;\">     rmse</th><th style=\"text-align: right;\">      mae</th><th style=\"text-align: right;\">     rmsle</th></tr>\n",
       "</thead>\n",
       "<tbody>\n",
       "<tr><td>StackedEnsemble_BestOfFamily_AutoML_20201206_124435</td><td style=\"text-align: right;\">0.007469  </td><td style=\"text-align: right;\">              0.007469  </td><td style=\"text-align: right;\">0.0864234</td><td style=\"text-align: right;\">0.0618919</td><td style=\"text-align: right;\">0.00982079</td></tr>\n",
       "<tr><td>GBM_4_AutoML_20201206_124435                       </td><td style=\"text-align: right;\">0.0074781 </td><td style=\"text-align: right;\">              0.0074781 </td><td style=\"text-align: right;\">0.086476 </td><td style=\"text-align: right;\">0.0619432</td><td style=\"text-align: right;\">0.00982717</td></tr>\n",
       "<tr><td>StackedEnsemble_AllModels_AutoML_20201206_124435   </td><td style=\"text-align: right;\">0.00757279</td><td style=\"text-align: right;\">              0.00757279</td><td style=\"text-align: right;\">0.0870218</td><td style=\"text-align: right;\">0.0624404</td><td style=\"text-align: right;\">0.00989835</td></tr>\n",
       "<tr><td>GBM_3_AutoML_20201206_124435                       </td><td style=\"text-align: right;\">0.00763048</td><td style=\"text-align: right;\">              0.00763048</td><td style=\"text-align: right;\">0.0873526</td><td style=\"text-align: right;\">0.062684 </td><td style=\"text-align: right;\">0.00994246</td></tr>\n",
       "<tr><td>GBM_grid__1_AutoML_20201206_124435_model_11        </td><td style=\"text-align: right;\">0.0076804 </td><td style=\"text-align: right;\">              0.0076804 </td><td style=\"text-align: right;\">0.0876379</td><td style=\"text-align: right;\">0.0625273</td><td style=\"text-align: right;\">0.0099649 </td></tr>\n",
       "<tr><td>GBM_1_AutoML_20201206_124435                       </td><td style=\"text-align: right;\">0.00768824</td><td style=\"text-align: right;\">              0.00768824</td><td style=\"text-align: right;\">0.0876826</td><td style=\"text-align: right;\">0.0634458</td><td style=\"text-align: right;\">0.00997508</td></tr>\n",
       "<tr><td>GBM_2_AutoML_20201206_124435                       </td><td style=\"text-align: right;\">0.00776655</td><td style=\"text-align: right;\">              0.00776655</td><td style=\"text-align: right;\">0.088128 </td><td style=\"text-align: right;\">0.0633481</td><td style=\"text-align: right;\">0.0100318 </td></tr>\n",
       "<tr><td>GBM_5_AutoML_20201206_124435                       </td><td style=\"text-align: right;\">0.0078127 </td><td style=\"text-align: right;\">              0.0078127 </td><td style=\"text-align: right;\">0.0883895</td><td style=\"text-align: right;\">0.062869 </td><td style=\"text-align: right;\">0.0100527 </td></tr>\n",
       "<tr><td>GBM_grid__1_AutoML_20201206_124435_model_12        </td><td style=\"text-align: right;\">0.00787347</td><td style=\"text-align: right;\">              0.00787347</td><td style=\"text-align: right;\">0.0887326</td><td style=\"text-align: right;\">0.0635269</td><td style=\"text-align: right;\">0.0100987 </td></tr>\n",
       "<tr><td>GBM_grid__1_AutoML_20201206_124435_model_9         </td><td style=\"text-align: right;\">0.00797157</td><td style=\"text-align: right;\">              0.00797157</td><td style=\"text-align: right;\">0.0892836</td><td style=\"text-align: right;\">0.0636904</td><td style=\"text-align: right;\">0.010164  </td></tr>\n",
       "</tbody>\n",
       "</table>"
      ]
     },
     "metadata": {},
     "output_type": "display_data"
    },
    {
     "data": {
      "text/plain": []
     },
     "execution_count": 18,
     "metadata": {},
     "output_type": "execute_result"
    }
   ],
   "source": [
    "leader_board2 = automl.leaderboard\n",
    "leader_board2.head()"
   ]
  },
  {
   "cell_type": "code",
   "execution_count": 19,
   "metadata": {},
   "outputs": [
    {
     "name": "stdout",
     "output_type": "stream",
     "text": [
      "stackedensemble prediction progress: |████████████████████████████████████| 100%\n"
     ]
    },
    {
     "data": {
      "text/html": [
       "<table>\n",
       "<thead>\n",
       "<tr><th style=\"text-align: right;\">  predict</th></tr>\n",
       "</thead>\n",
       "<tbody>\n",
       "<tr><td style=\"text-align: right;\">  6.85198</td></tr>\n",
       "<tr><td style=\"text-align: right;\">  6.90456</td></tr>\n",
       "<tr><td style=\"text-align: right;\">  8.24281</td></tr>\n",
       "<tr><td style=\"text-align: right;\">  6.73357</td></tr>\n",
       "<tr><td style=\"text-align: right;\">  7.75773</td></tr>\n",
       "<tr><td style=\"text-align: right;\">  8.51846</td></tr>\n",
       "<tr><td style=\"text-align: right;\">  6.4416 </td></tr>\n",
       "<tr><td style=\"text-align: right;\">  8.45636</td></tr>\n",
       "<tr><td style=\"text-align: right;\">  7.81635</td></tr>\n",
       "<tr><td style=\"text-align: right;\">  7.57208</td></tr>\n",
       "</tbody>\n",
       "</table>"
      ]
     },
     "metadata": {},
     "output_type": "display_data"
    },
    {
     "data": {
      "text/plain": []
     },
     "execution_count": 19,
     "metadata": {},
     "output_type": "execute_result"
    }
   ],
   "source": [
    "predictions = automl.leader.predict(h2pred)\n",
    "predictions.head()"
   ]
  },
  {
   "cell_type": "code",
   "execution_count": 20,
   "metadata": {},
   "outputs": [],
   "source": [
    "sub = predictions.as_data_frame()"
   ]
  },
  {
   "cell_type": "code",
   "execution_count": 21,
   "metadata": {},
   "outputs": [],
   "source": [
    "columns=['id','price']\n",
    "sub = sub.reset_index(level=0)\n",
    "sub.columns = columns"
   ]
  },
  {
   "cell_type": "code",
   "execution_count": 22,
   "metadata": {},
   "outputs": [],
   "source": [
    "sub.to_csv(\"subm_12.csv\",index=False)"
   ]
  },
  {
   "cell_type": "code",
   "execution_count": 23,
   "metadata": {},
   "outputs": [
    {
     "name": "stdout",
     "output_type": "stream",
     "text": [
      "AutoML progress: |████████████████████████████████████████████████████████| 100%\n"
     ]
    }
   ],
   "source": [
    "automl = H2OAutoML(max_models=50,max_runtime_secs=3600, sort_metric='MSE')\n",
    "automl.train(x, y, training_frame=h2train)"
   ]
  },
  {
   "cell_type": "code",
   "execution_count": 24,
   "metadata": {},
   "outputs": [
    {
     "data": {
      "text/html": [
       "<table>\n",
       "<thead>\n",
       "<tr><th>model_id                                           </th><th style=\"text-align: right;\">       mse</th><th style=\"text-align: right;\">  mean_residual_deviance</th><th style=\"text-align: right;\">     rmse</th><th style=\"text-align: right;\">      mae</th><th style=\"text-align: right;\">     rmsle</th></tr>\n",
       "</thead>\n",
       "<tbody>\n",
       "<tr><td>StackedEnsemble_BestOfFamily_AutoML_20201206_131153</td><td style=\"text-align: right;\">0.00755873</td><td style=\"text-align: right;\">              0.00755873</td><td style=\"text-align: right;\">0.086941 </td><td style=\"text-align: right;\">0.0622488</td><td style=\"text-align: right;\">0.00988418</td></tr>\n",
       "<tr><td>GBM_4_AutoML_20201206_131153                       </td><td style=\"text-align: right;\">0.00757047</td><td style=\"text-align: right;\">              0.00757047</td><td style=\"text-align: right;\">0.0870084</td><td style=\"text-align: right;\">0.0623117</td><td style=\"text-align: right;\">0.00989246</td></tr>\n",
       "<tr><td>GBM_3_AutoML_20201206_131153                       </td><td style=\"text-align: right;\">0.00757626</td><td style=\"text-align: right;\">              0.00757626</td><td style=\"text-align: right;\">0.0870417</td><td style=\"text-align: right;\">0.062337 </td><td style=\"text-align: right;\">0.009901  </td></tr>\n",
       "<tr><td>GBM_grid__1_AutoML_20201206_131153_model_3         </td><td style=\"text-align: right;\">0.00759612</td><td style=\"text-align: right;\">              0.00759612</td><td style=\"text-align: right;\">0.0871557</td><td style=\"text-align: right;\">0.0619751</td><td style=\"text-align: right;\">0.00989933</td></tr>\n",
       "<tr><td>StackedEnsemble_AllModels_AutoML_20201206_131153   </td><td style=\"text-align: right;\">0.00760855</td><td style=\"text-align: right;\">              0.00760855</td><td style=\"text-align: right;\">0.087227 </td><td style=\"text-align: right;\">0.0624305</td><td style=\"text-align: right;\">0.00991907</td></tr>\n",
       "<tr><td>GBM_1_AutoML_20201206_131153                       </td><td style=\"text-align: right;\">0.00775203</td><td style=\"text-align: right;\">              0.00775203</td><td style=\"text-align: right;\">0.0880456</td><td style=\"text-align: right;\">0.0635489</td><td style=\"text-align: right;\">0.0100142 </td></tr>\n",
       "<tr><td>GBM_grid__1_AutoML_20201206_131153_model_10        </td><td style=\"text-align: right;\">0.00775421</td><td style=\"text-align: right;\">              0.00775421</td><td style=\"text-align: right;\">0.088058 </td><td style=\"text-align: right;\">0.0624062</td><td style=\"text-align: right;\">0.00999634</td></tr>\n",
       "<tr><td>GBM_2_AutoML_20201206_131153                       </td><td style=\"text-align: right;\">0.00778385</td><td style=\"text-align: right;\">              0.00778385</td><td style=\"text-align: right;\">0.0882261</td><td style=\"text-align: right;\">0.0634225</td><td style=\"text-align: right;\">0.0100429 </td></tr>\n",
       "<tr><td>GBM_5_AutoML_20201206_131153                       </td><td style=\"text-align: right;\">0.00787711</td><td style=\"text-align: right;\">              0.00787711</td><td style=\"text-align: right;\">0.0887531</td><td style=\"text-align: right;\">0.0628529</td><td style=\"text-align: right;\">0.0100948 </td></tr>\n",
       "<tr><td>XGBoost_grid__1_AutoML_20201206_131153_model_3     </td><td style=\"text-align: right;\">0.00803381</td><td style=\"text-align: right;\">              0.00803381</td><td style=\"text-align: right;\">0.0896315</td><td style=\"text-align: right;\">0.0644032</td><td style=\"text-align: right;\">0.0101733 </td></tr>\n",
       "</tbody>\n",
       "</table>"
      ]
     },
     "metadata": {},
     "output_type": "display_data"
    },
    {
     "data": {
      "text/plain": []
     },
     "execution_count": 24,
     "metadata": {},
     "output_type": "execute_result"
    }
   ],
   "source": [
    "leader_board3 = automl.leaderboard\n",
    "leader_board3.head()"
   ]
  },
  {
   "cell_type": "code",
   "execution_count": 25,
   "metadata": {},
   "outputs": [
    {
     "name": "stdout",
     "output_type": "stream",
     "text": [
      "AutoML progress: |████████████████████████████████████████████████████████| 100%\n"
     ]
    }
   ],
   "source": [
    "automl = H2OAutoML(max_runtime_secs=1000, sort_metric='MSE')\n",
    "automl.train(x, y, training_frame=h2train)"
   ]
  },
  {
   "cell_type": "code",
   "execution_count": 26,
   "metadata": {},
   "outputs": [
    {
     "data": {
      "text/html": [
       "<table>\n",
       "<thead>\n",
       "<tr><th>model_id                                           </th><th style=\"text-align: right;\">       mse</th><th style=\"text-align: right;\">  mean_residual_deviance</th><th style=\"text-align: right;\">     rmse</th><th style=\"text-align: right;\">      mae</th><th style=\"text-align: right;\">     rmsle</th></tr>\n",
       "</thead>\n",
       "<tbody>\n",
       "<tr><td>StackedEnsemble_BestOfFamily_AutoML_20201206_135846</td><td style=\"text-align: right;\">0.00736598</td><td style=\"text-align: right;\">              0.00736598</td><td style=\"text-align: right;\">0.0858253</td><td style=\"text-align: right;\">0.0611234</td><td style=\"text-align: right;\">0.00973298</td></tr>\n",
       "<tr><td>GBM_grid__1_AutoML_20201206_135846_model_3         </td><td style=\"text-align: right;\">0.00737269</td><td style=\"text-align: right;\">              0.00737269</td><td style=\"text-align: right;\">0.0858644</td><td style=\"text-align: right;\">0.0611324</td><td style=\"text-align: right;\">0.00973728</td></tr>\n",
       "<tr><td>StackedEnsemble_AllModels_AutoML_20201206_135846   </td><td style=\"text-align: right;\">0.00739022</td><td style=\"text-align: right;\">              0.00739022</td><td style=\"text-align: right;\">0.0859664</td><td style=\"text-align: right;\">0.061252 </td><td style=\"text-align: right;\">0.00975077</td></tr>\n",
       "<tr><td>GBM_3_AutoML_20201206_135846                       </td><td style=\"text-align: right;\">0.00754553</td><td style=\"text-align: right;\">              0.00754553</td><td style=\"text-align: right;\">0.086865 </td><td style=\"text-align: right;\">0.062287 </td><td style=\"text-align: right;\">0.00987629</td></tr>\n",
       "<tr><td>GBM_2_AutoML_20201206_135846                       </td><td style=\"text-align: right;\">0.00769789</td><td style=\"text-align: right;\">              0.00769789</td><td style=\"text-align: right;\">0.0877376</td><td style=\"text-align: right;\">0.0632183</td><td style=\"text-align: right;\">0.0099922 </td></tr>\n",
       "<tr><td>GBM_4_AutoML_20201206_135846                       </td><td style=\"text-align: right;\">0.00771837</td><td style=\"text-align: right;\">              0.00771837</td><td style=\"text-align: right;\">0.0878542</td><td style=\"text-align: right;\">0.0630226</td><td style=\"text-align: right;\">0.00999035</td></tr>\n",
       "<tr><td>GBM_grid__1_AutoML_20201206_135846_model_9         </td><td style=\"text-align: right;\">0.00775306</td><td style=\"text-align: right;\">              0.00775306</td><td style=\"text-align: right;\">0.0880515</td><td style=\"text-align: right;\">0.0630459</td><td style=\"text-align: right;\">0.0100129 </td></tr>\n",
       "<tr><td>GBM_5_AutoML_20201206_135846                       </td><td style=\"text-align: right;\">0.00776376</td><td style=\"text-align: right;\">              0.00776376</td><td style=\"text-align: right;\">0.0881122</td><td style=\"text-align: right;\">0.0627283</td><td style=\"text-align: right;\">0.0100191 </td></tr>\n",
       "<tr><td>GBM_1_AutoML_20201206_135846                       </td><td style=\"text-align: right;\">0.00779086</td><td style=\"text-align: right;\">              0.00779086</td><td style=\"text-align: right;\">0.0882659</td><td style=\"text-align: right;\">0.063569 </td><td style=\"text-align: right;\">0.0100513 </td></tr>\n",
       "<tr><td>XGBoost_grid__1_AutoML_20201206_135846_model_2     </td><td style=\"text-align: right;\">0.00798187</td><td style=\"text-align: right;\">              0.00798187</td><td style=\"text-align: right;\">0.0893413</td><td style=\"text-align: right;\">0.0646142</td><td style=\"text-align: right;\">0.0101601 </td></tr>\n",
       "</tbody>\n",
       "</table>"
      ]
     },
     "metadata": {},
     "output_type": "display_data"
    },
    {
     "data": {
      "text/plain": []
     },
     "execution_count": 26,
     "metadata": {},
     "output_type": "execute_result"
    }
   ],
   "source": [
    "leader_board3 = automl.leaderboard\n",
    "leader_board3.head()"
   ]
  },
  {
   "cell_type": "code",
   "execution_count": 27,
   "metadata": {},
   "outputs": [
    {
     "name": "stdout",
     "output_type": "stream",
     "text": [
      "stackedensemble prediction progress: |████████████████████████████████████| 100%\n"
     ]
    }
   ],
   "source": [
    "predictions = automl.leader.predict(h2pred)\n",
    "sub = predictions.as_data_frame()\n",
    "columns=['id','price']\n",
    "sub = sub.reset_index(level=0)\n",
    "sub.columns = columns\n",
    "sub.to_csv(\"subm_13.csv\",index=False)"
   ]
  },
  {
   "cell_type": "code",
   "execution_count": 28,
   "metadata": {},
   "outputs": [
    {
     "name": "stdout",
     "output_type": "stream",
     "text": [
      "AutoML progress: |████████████████████████████████████████████████████████| 100%\n"
     ]
    },
    {
     "data": {
      "text/html": [
       "<table>\n",
       "<thead>\n",
       "<tr><th>model_id                                           </th><th style=\"text-align: right;\">       mse</th><th style=\"text-align: right;\">  mean_residual_deviance</th><th style=\"text-align: right;\">     rmse</th><th style=\"text-align: right;\">      mae</th><th style=\"text-align: right;\">     rmsle</th></tr>\n",
       "</thead>\n",
       "<tbody>\n",
       "<tr><td>StackedEnsemble_BestOfFamily_AutoML_20201206_144901</td><td style=\"text-align: right;\">0.00756075</td><td style=\"text-align: right;\">              0.00756075</td><td style=\"text-align: right;\">0.0869526</td><td style=\"text-align: right;\">0.0622202</td><td style=\"text-align: right;\">0.00988432</td></tr>\n",
       "<tr><td>GBM_3_AutoML_20201206_144901                       </td><td style=\"text-align: right;\">0.00756839</td><td style=\"text-align: right;\">              0.00756839</td><td style=\"text-align: right;\">0.0869965</td><td style=\"text-align: right;\">0.0622568</td><td style=\"text-align: right;\">0.00988976</td></tr>\n",
       "<tr><td>StackedEnsemble_AllModels_AutoML_20201206_144901   </td><td style=\"text-align: right;\">0.00758255</td><td style=\"text-align: right;\">              0.00758255</td><td style=\"text-align: right;\">0.0870778</td><td style=\"text-align: right;\">0.0623403</td><td style=\"text-align: right;\">0.00990003</td></tr>\n",
       "<tr><td>GBM_4_AutoML_20201206_144901                       </td><td style=\"text-align: right;\">0.00760253</td><td style=\"text-align: right;\">              0.00760253</td><td style=\"text-align: right;\">0.0871925</td><td style=\"text-align: right;\">0.0623283</td><td style=\"text-align: right;\">0.00990997</td></tr>\n",
       "<tr><td>GBM_2_AutoML_20201206_144901                       </td><td style=\"text-align: right;\">0.00765727</td><td style=\"text-align: right;\">              0.00765727</td><td style=\"text-align: right;\">0.0875058</td><td style=\"text-align: right;\">0.0629517</td><td style=\"text-align: right;\">0.00994986</td></tr>\n",
       "<tr><td>GBM_1_AutoML_20201206_144901                       </td><td style=\"text-align: right;\">0.00775854</td><td style=\"text-align: right;\">              0.00775854</td><td style=\"text-align: right;\">0.0880826</td><td style=\"text-align: right;\">0.0633674</td><td style=\"text-align: right;\">0.0100213 </td></tr>\n",
       "<tr><td>GBM_5_AutoML_20201206_144901                       </td><td style=\"text-align: right;\">0.00776837</td><td style=\"text-align: right;\">              0.00776837</td><td style=\"text-align: right;\">0.0881384</td><td style=\"text-align: right;\">0.0628506</td><td style=\"text-align: right;\">0.0100273 </td></tr>\n",
       "<tr><td>GBM_grid__1_AutoML_20201206_144901_model_1         </td><td style=\"text-align: right;\">0.00786385</td><td style=\"text-align: right;\">              0.00786385</td><td style=\"text-align: right;\">0.0886783</td><td style=\"text-align: right;\">0.0633719</td><td style=\"text-align: right;\">0.0100845 </td></tr>\n",
       "<tr><td>GBM_grid__1_AutoML_20201206_144901_model_7         </td><td style=\"text-align: right;\">0.00786477</td><td style=\"text-align: right;\">              0.00786477</td><td style=\"text-align: right;\">0.0886836</td><td style=\"text-align: right;\">0.0642326</td><td style=\"text-align: right;\">0.010102  </td></tr>\n",
       "<tr><td>GBM_grid__1_AutoML_20201206_144901_model_3         </td><td style=\"text-align: right;\">0.00803117</td><td style=\"text-align: right;\">              0.00803117</td><td style=\"text-align: right;\">0.0896168</td><td style=\"text-align: right;\">0.0653896</td><td style=\"text-align: right;\">0.0102343 </td></tr>\n",
       "</tbody>\n",
       "</table>"
      ]
     },
     "metadata": {},
     "output_type": "display_data"
    },
    {
     "data": {
      "text/plain": []
     },
     "execution_count": 28,
     "metadata": {},
     "output_type": "execute_result"
    }
   ],
   "source": [
    "automl = H2OAutoML(max_runtime_secs=1000, sort_metric='MSE')\n",
    "automl.train(x, y, training_frame=h2train)\n",
    "leader_board3 = automl.leaderboard\n",
    "leader_board3.head()"
   ]
  },
  {
   "cell_type": "code",
   "execution_count": 29,
   "metadata": {},
   "outputs": [
    {
     "name": "stdout",
     "output_type": "stream",
     "text": [
      "stackedensemble prediction progress: |████████████████████████████████████| 100%\n"
     ]
    }
   ],
   "source": [
    "predictions = automl.leader.predict(h2pred)\n",
    "sub = predictions.as_data_frame()\n",
    "columns=['id','price']\n",
    "sub = sub.reset_index(level=0)\n",
    "sub.columns = columns\n",
    "sub.to_csv(\"subm_9.csv\",index=False)"
   ]
  },
  {
   "cell_type": "code",
   "execution_count": 31,
   "metadata": {},
   "outputs": [
    {
     "name": "stdout",
     "output_type": "stream",
     "text": [
      "AutoML progress: |████████████████████████████████████████████████████████| 100%\n"
     ]
    },
    {
     "data": {
      "text/html": [
       "<table>\n",
       "<thead>\n",
       "<tr><th>model_id                                           </th><th style=\"text-align: right;\">       mse</th><th style=\"text-align: right;\">  mean_residual_deviance</th><th style=\"text-align: right;\">     rmse</th><th style=\"text-align: right;\">      mae</th><th style=\"text-align: right;\">     rmsle</th></tr>\n",
       "</thead>\n",
       "<tbody>\n",
       "<tr><td>StackedEnsemble_BestOfFamily_AutoML_20201206_151716</td><td style=\"text-align: right;\">0.00757407</td><td style=\"text-align: right;\">              0.00757407</td><td style=\"text-align: right;\">0.0870291</td><td style=\"text-align: right;\">0.0624821</td><td style=\"text-align: right;\">0.00989431</td></tr>\n",
       "<tr><td>GBM_3_AutoML_20201206_151716                       </td><td style=\"text-align: right;\">0.00758415</td><td style=\"text-align: right;\">              0.00758415</td><td style=\"text-align: right;\">0.087087 </td><td style=\"text-align: right;\">0.0625309</td><td style=\"text-align: right;\">0.0099013 </td></tr>\n",
       "<tr><td>StackedEnsemble_AllModels_AutoML_20201206_151716   </td><td style=\"text-align: right;\">0.00758559</td><td style=\"text-align: right;\">              0.00758559</td><td style=\"text-align: right;\">0.0870953</td><td style=\"text-align: right;\">0.0625404</td><td style=\"text-align: right;\">0.00990263</td></tr>\n",
       "<tr><td>GBM_2_AutoML_20201206_151716                       </td><td style=\"text-align: right;\">0.00768979</td><td style=\"text-align: right;\">              0.00768979</td><td style=\"text-align: right;\">0.0876915</td><td style=\"text-align: right;\">0.0632107</td><td style=\"text-align: right;\">0.00998287</td></tr>\n",
       "<tr><td>GBM_1_AutoML_20201206_151716                       </td><td style=\"text-align: right;\">0.00779568</td><td style=\"text-align: right;\">              0.00779568</td><td style=\"text-align: right;\">0.0882932</td><td style=\"text-align: right;\">0.0636483</td><td style=\"text-align: right;\">0.0100415 </td></tr>\n",
       "<tr><td>XGBoost_grid__1_AutoML_20201206_151716_model_1     </td><td style=\"text-align: right;\">0.00801052</td><td style=\"text-align: right;\">              0.00801052</td><td style=\"text-align: right;\">0.0895015</td><td style=\"text-align: right;\">0.0639298</td><td style=\"text-align: right;\">0.01016   </td></tr>\n",
       "<tr><td>XGBoost_grid__1_AutoML_20201206_151716_model_2     </td><td style=\"text-align: right;\">0.00806614</td><td style=\"text-align: right;\">              0.00806614</td><td style=\"text-align: right;\">0.0898117</td><td style=\"text-align: right;\">0.0643373</td><td style=\"text-align: right;\">0.0102103 </td></tr>\n",
       "<tr><td>XGBoost_grid__1_AutoML_20201206_151716_model_3     </td><td style=\"text-align: right;\">0.00810935</td><td style=\"text-align: right;\">              0.00810935</td><td style=\"text-align: right;\">0.0900519</td><td style=\"text-align: right;\">0.0639872</td><td style=\"text-align: right;\">0.0102352 </td></tr>\n",
       "<tr><td>XGBoost_grid__1_AutoML_20201206_151716_model_4     </td><td style=\"text-align: right;\">0.00827542</td><td style=\"text-align: right;\">              0.00827542</td><td style=\"text-align: right;\">0.0909693</td><td style=\"text-align: right;\">0.0657097</td><td style=\"text-align: right;\">0.0103475 </td></tr>\n",
       "<tr><td>GBM_grid__1_AutoML_20201206_151716_model_12        </td><td style=\"text-align: right;\">0.00833818</td><td style=\"text-align: right;\">              0.00833818</td><td style=\"text-align: right;\">0.0913136</td><td style=\"text-align: right;\">0.0657108</td><td style=\"text-align: right;\">0.0104054 </td></tr>\n",
       "</tbody>\n",
       "</table>"
      ]
     },
     "metadata": {},
     "output_type": "display_data"
    },
    {
     "data": {
      "text/plain": []
     },
     "execution_count": 31,
     "metadata": {},
     "output_type": "execute_result"
    }
   ],
   "source": [
    "automl = H2OAutoML(max_runtime_secs=1200, sort_metric='MSE')\n",
    "automl.train(x, y, training_frame=h2train)\n",
    "leader_board3 = automl.leaderboard\n",
    "leader_board3.head()"
   ]
  },
  {
   "cell_type": "code",
   "execution_count": 32,
   "metadata": {},
   "outputs": [
    {
     "name": "stdout",
     "output_type": "stream",
     "text": [
      "stackedensemble prediction progress: |████████████████████████████████████| 100%\n"
     ]
    }
   ],
   "source": [
    "predictions = automl.leader.predict(h2pred)\n",
    "sub = predictions.as_data_frame()\n",
    "columns=['id','price']\n",
    "sub = sub.reset_index(level=0)\n",
    "sub.columns = columns\n",
    "sub.to_csv(\"subm_10.csv\",index=False)"
   ]
  },
  {
   "cell_type": "code",
   "execution_count": null,
   "metadata": {},
   "outputs": [],
   "source": []
  }
 ],
 "metadata": {
  "kernelspec": {
   "display_name": "Python 3",
   "language": "python",
   "name": "python3"
  },
  "language_info": {
   "codemirror_mode": {
    "name": "ipython",
    "version": 3
   },
   "file_extension": ".py",
   "mimetype": "text/x-python",
   "name": "python",
   "nbconvert_exporter": "python",
   "pygments_lexer": "ipython3",
   "version": "3.8.5"
  }
 },
 "nbformat": 4,
 "nbformat_minor": 4
}
